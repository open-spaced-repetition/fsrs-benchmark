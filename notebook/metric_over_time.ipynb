{
 "cells": [
  {
   "cell_type": "code",
   "execution_count": 1,
   "metadata": {},
   "outputs": [],
   "source": [
    "import os\n",
    "import sys\n",
    "import pandas as pd\n",
    "from pathlib import Path\n",
    "import matplotlib.pyplot as plt\n",
    "\n",
    "\n",
    "module_path = os.path.abspath(os.path.join('..'))\n",
    "if module_path not in sys.path:\n",
    "    sys.path.append(module_path)\n",
    "\n",
    "from utils import cross_comparison\n",
    "from itertools import accumulate\n",
    "import torch\n",
    "\n",
    "\n",
    "rust = False\n",
    "\n",
    "if rust:\n",
    "    sys.path.insert(0, os.path.abspath(\"/Users/jarrettye/Codes/anki/pylib\"))\n",
    "    sys.path.insert(0, os.path.abspath(\"/Users/jarrettye/Codes/anki/out/pylib\"))\n",
    "\n",
    "    from anki._backend import RustBackend\n",
    "\n",
    "    backend = RustBackend()\n",
    "    \n",
    "    from anki.collection import FsrsItem, FsrsReview"
   ]
  },
  {
   "cell_type": "code",
   "execution_count": 2,
   "metadata": {},
   "outputs": [],
   "source": [
    "from tqdm import tqdm\n",
    "tqdm.pandas()\n",
    "\n",
    "def convert_to_items(df):  # -> list[FsrsItem]\n",
    "\n",
    "    def accumulate(group):\n",
    "        items = []\n",
    "        for _, row in group.iterrows():\n",
    "            t_history = [max(0, int(t)) for t in row[\"t_history\"].split(\",\")] + [\n",
    "                row[\"delta_t\"]\n",
    "            ]\n",
    "            r_history = [int(t) for t in row[\"r_history\"].split(\",\")] + [row[\"rating\"]]\n",
    "            items.append(\n",
    "                FsrsItem(\n",
    "                    reviews=[\n",
    "                        FsrsReview(delta_t=int(x[0]), rating=int(x[1]))\n",
    "                        for x in zip(t_history, r_history)\n",
    "                    ]\n",
    "                )\n",
    "            )\n",
    "        return items\n",
    "\n",
    "    result_list = sum(\n",
    "        df.sort_values(by=[\"card_id\", \"review_th\"])\n",
    "        .groupby(\"card_id\")\n",
    "        .apply(accumulate)\n",
    "        .tolist(),\n",
    "        [],\n",
    "    )\n",
    "\n",
    "    return result_list\n",
    "\n",
    "\n",
    "def cum_concat(x):\n",
    "    return list(accumulate(x))\n",
    "\n",
    "\n",
    "def create_time_series(df):\n",
    "    df = df[(df[\"delta_t\"] != 0) & (df[\"rating\"].isin([1, 2, 3, 4]))].copy()\n",
    "    df[\"i\"] = df.groupby(\"card_id\").cumcount() + 1\n",
    "    t_history = df.groupby(\"card_id\", group_keys=False)[\"delta_t\"].apply(\n",
    "        lambda x: cum_concat([[i] for i in x])\n",
    "    )\n",
    "    r_history = df.groupby(\"card_id\", group_keys=False)[\"rating\"].apply(\n",
    "        lambda x: cum_concat([[i] for i in x])\n",
    "    )\n",
    "    df[\"r_history\"] = [\n",
    "        \",\".join(map(str, item[:-1])) for sublist in r_history for item in sublist\n",
    "    ]\n",
    "    df[\"t_history\"] = [\n",
    "        \",\".join(map(str, item[:-1])) for sublist in t_history for item in sublist\n",
    "    ]\n",
    "    df[\"tensor\"] = [\n",
    "        torch.tensor((t_item[:-1], r_item[:-1])).transpose(0, 1)\n",
    "        for t_sublist, r_sublist in zip(t_history, r_history)\n",
    "        for t_item, r_item in zip(t_sublist, r_sublist)\n",
    "    ]\n",
    "    df[\"y\"] = df[\"rating\"].map(lambda x: {1: 0, 2: 1, 3: 1, 4: 1}[x])\n",
    "    return df[df[\"delta_t\"] > 0].sort_values(by=[\"review_th\"]).reset_index(drop=True)"
   ]
  },
  {
   "cell_type": "code",
   "execution_count": 3,
   "metadata": {},
   "outputs": [],
   "source": [
    "file = Path(\"../dataset/1000.csv\")\n",
    "dataset = pd.read_csv(file)\n",
    "dataset = create_time_series(dataset)"
   ]
  },
  {
   "cell_type": "code",
   "execution_count": 4,
   "metadata": {},
   "outputs": [
    {
     "name": "stderr",
     "output_type": "stream",
     "text": [
      "  0%|          | 0/27 [00:00<?, ?it/s]"
     ]
    },
    {
     "name": "stdout",
     "output_type": "stream",
     "text": [
      "Pretrain finished!\n"
     ]
    },
    {
     "name": "stderr",
     "output_type": "stream",
     "text": [
      "  0%|          | 0/27 [00:00<?, ?it/s]"
     ]
    },
    {
     "name": "stdout",
     "output_type": "stream",
     "text": [
      "dataset built\n"
     ]
    },
    {
     "data": {
      "application/vnd.jupyter.widget-view+json": {
       "model_id": "5987261faead48d0adece5980b481fcf",
       "version_major": 2,
       "version_minor": 0
      },
      "text/plain": [
       "train:   0%|          | 0/3230 [00:00<?, ?it/s]"
      ]
     },
     "metadata": {},
     "output_type": "display_data"
    },
    {
     "name": "stderr",
     "output_type": "stream",
     "text": [
      "  4%|▎         | 1/27 [00:00<00:15,  1.67it/s]"
     ]
    },
    {
     "name": "stdout",
     "output_type": "stream",
     "text": [
      "Pretrain finished!\n",
      "dataset built\n"
     ]
    },
    {
     "data": {
      "application/vnd.jupyter.widget-view+json": {
       "model_id": "25e700a7fc2a44b3960578ca243734a6",
       "version_major": 2,
       "version_minor": 0
      },
      "text/plain": [
       "train:   0%|          | 0/7385 [00:00<?, ?it/s]"
      ]
     },
     "metadata": {},
     "output_type": "display_data"
    },
    {
     "name": "stderr",
     "output_type": "stream",
     "text": [
      "  7%|▋         | 2/27 [00:00<00:10,  2.43it/s]"
     ]
    },
    {
     "name": "stdout",
     "output_type": "stream",
     "text": [
      "Pretrain finished!\n",
      "dataset built\n"
     ]
    },
    {
     "data": {
      "application/vnd.jupyter.widget-view+json": {
       "model_id": "d856210f4fd74ff7990015ef1dc27af7",
       "version_major": 2,
       "version_minor": 0
      },
      "text/plain": [
       "train:   0%|          | 0/11280 [00:00<?, ?it/s]"
      ]
     },
     "metadata": {},
     "output_type": "display_data"
    },
    {
     "name": "stderr",
     "output_type": "stream",
     "text": [
      " 11%|█         | 3/27 [00:01<00:09,  2.48it/s]"
     ]
    },
    {
     "name": "stdout",
     "output_type": "stream",
     "text": [
      "Pretrain finished!\n",
      "dataset built\n"
     ]
    },
    {
     "data": {
      "application/vnd.jupyter.widget-view+json": {
       "model_id": "46d9d31ac3254b7eba4ee796f5708bfd",
       "version_major": 2,
       "version_minor": 0
      },
      "text/plain": [
       "train:   0%|          | 0/15690 [00:00<?, ?it/s]"
      ]
     },
     "metadata": {},
     "output_type": "display_data"
    },
    {
     "name": "stderr",
     "output_type": "stream",
     "text": [
      " 15%|█▍        | 4/27 [00:01<00:09,  2.30it/s]"
     ]
    },
    {
     "name": "stdout",
     "output_type": "stream",
     "text": [
      "Pretrain finished!\n",
      "dataset built\n"
     ]
    },
    {
     "data": {
      "application/vnd.jupyter.widget-view+json": {
       "model_id": "cdba01b9ab1940bab8cef922e5652a8c",
       "version_major": 2,
       "version_minor": 0
      },
      "text/plain": [
       "train:   0%|          | 0/20310 [00:00<?, ?it/s]"
      ]
     },
     "metadata": {},
     "output_type": "display_data"
    },
    {
     "name": "stderr",
     "output_type": "stream",
     "text": [
      " 19%|█▊        | 5/27 [00:02<00:10,  2.05it/s]"
     ]
    },
    {
     "name": "stdout",
     "output_type": "stream",
     "text": [
      "Pretrain finished!\n",
      "dataset built\n"
     ]
    },
    {
     "data": {
      "application/vnd.jupyter.widget-view+json": {
       "model_id": "29ead726158945769aacf5ff2ed04b83",
       "version_major": 2,
       "version_minor": 0
      },
      "text/plain": [
       "train:   0%|          | 0/23785 [00:00<?, ?it/s]"
      ]
     },
     "metadata": {},
     "output_type": "display_data"
    },
    {
     "name": "stderr",
     "output_type": "stream",
     "text": [
      " 22%|██▏       | 6/27 [00:03<00:11,  1.80it/s]"
     ]
    },
    {
     "name": "stdout",
     "output_type": "stream",
     "text": [
      "Pretrain finished!\n",
      "dataset built\n"
     ]
    },
    {
     "data": {
      "application/vnd.jupyter.widget-view+json": {
       "model_id": "142afe9c11664bdea0c2ef98ab7924b6",
       "version_major": 2,
       "version_minor": 0
      },
      "text/plain": [
       "train:   0%|          | 0/27340 [00:00<?, ?it/s]"
      ]
     },
     "metadata": {},
     "output_type": "display_data"
    },
    {
     "name": "stderr",
     "output_type": "stream",
     "text": [
      " 26%|██▌       | 7/27 [00:03<00:11,  1.69it/s]"
     ]
    },
    {
     "name": "stdout",
     "output_type": "stream",
     "text": [
      "Pretrain finished!\n",
      "dataset built\n"
     ]
    },
    {
     "data": {
      "application/vnd.jupyter.widget-view+json": {
       "model_id": "a7f972e70c9a4ccbb6ba20d94331b558",
       "version_major": 2,
       "version_minor": 0
      },
      "text/plain": [
       "train:   0%|          | 0/30820 [00:00<?, ?it/s]"
      ]
     },
     "metadata": {},
     "output_type": "display_data"
    },
    {
     "name": "stderr",
     "output_type": "stream",
     "text": [
      " 30%|██▉       | 8/27 [00:04<00:12,  1.47it/s]"
     ]
    },
    {
     "name": "stdout",
     "output_type": "stream",
     "text": [
      "Pretrain finished!\n",
      "dataset built\n"
     ]
    },
    {
     "data": {
      "application/vnd.jupyter.widget-view+json": {
       "model_id": "57790ca22d614ff7ba1a67f3f93056e3",
       "version_major": 2,
       "version_minor": 0
      },
      "text/plain": [
       "train:   0%|          | 0/34745 [00:00<?, ?it/s]"
      ]
     },
     "metadata": {},
     "output_type": "display_data"
    },
    {
     "name": "stderr",
     "output_type": "stream",
     "text": [
      " 33%|███▎      | 9/27 [00:05<00:13,  1.36it/s]"
     ]
    },
    {
     "name": "stdout",
     "output_type": "stream",
     "text": [
      "Pretrain finished!\n",
      "dataset built\n"
     ]
    },
    {
     "data": {
      "application/vnd.jupyter.widget-view+json": {
       "model_id": "d19d980d1d95488fbeaaf532e8095fdf",
       "version_major": 2,
       "version_minor": 0
      },
      "text/plain": [
       "train:   0%|          | 0/39470 [00:00<?, ?it/s]"
      ]
     },
     "metadata": {},
     "output_type": "display_data"
    },
    {
     "name": "stderr",
     "output_type": "stream",
     "text": [
      " 37%|███▋      | 10/27 [00:06<00:13,  1.26it/s]"
     ]
    },
    {
     "name": "stdout",
     "output_type": "stream",
     "text": [
      "Pretrain finished!\n",
      "dataset built\n"
     ]
    },
    {
     "data": {
      "application/vnd.jupyter.widget-view+json": {
       "model_id": "9010d2bd51f64bb28dba662fb5b86863",
       "version_major": 2,
       "version_minor": 0
      },
      "text/plain": [
       "train:   0%|          | 0/42715 [00:00<?, ?it/s]"
      ]
     },
     "metadata": {},
     "output_type": "display_data"
    },
    {
     "name": "stderr",
     "output_type": "stream",
     "text": [
      " 41%|████      | 11/27 [00:07<00:14,  1.13it/s]"
     ]
    },
    {
     "name": "stdout",
     "output_type": "stream",
     "text": [
      "Pretrain finished!\n",
      "dataset built\n"
     ]
    },
    {
     "data": {
      "application/vnd.jupyter.widget-view+json": {
       "model_id": "86c8dbd12b224341b71c34b3187f10c1",
       "version_major": 2,
       "version_minor": 0
      },
      "text/plain": [
       "train:   0%|          | 0/46695 [00:00<?, ?it/s]"
      ]
     },
     "metadata": {},
     "output_type": "display_data"
    },
    {
     "name": "stderr",
     "output_type": "stream",
     "text": [
      " 44%|████▍     | 12/27 [00:08<00:14,  1.06it/s]"
     ]
    },
    {
     "name": "stdout",
     "output_type": "stream",
     "text": [
      "Pretrain finished!\n",
      "dataset built\n"
     ]
    },
    {
     "data": {
      "application/vnd.jupyter.widget-view+json": {
       "model_id": "940245095fae42ddbdc250ea3a227c91",
       "version_major": 2,
       "version_minor": 0
      },
      "text/plain": [
       "train:   0%|          | 0/51130 [00:00<?, ?it/s]"
      ]
     },
     "metadata": {},
     "output_type": "display_data"
    },
    {
     "name": "stderr",
     "output_type": "stream",
     "text": [
      " 48%|████▊     | 13/27 [00:09<00:14,  1.01s/it]"
     ]
    },
    {
     "name": "stdout",
     "output_type": "stream",
     "text": [
      "Pretrain finished!\n",
      "dataset built\n"
     ]
    },
    {
     "data": {
      "application/vnd.jupyter.widget-view+json": {
       "model_id": "6378b935d8f346048e81ce624c824cd9",
       "version_major": 2,
       "version_minor": 0
      },
      "text/plain": [
       "train:   0%|          | 0/55430 [00:00<?, ?it/s]"
      ]
     },
     "metadata": {},
     "output_type": "display_data"
    },
    {
     "name": "stderr",
     "output_type": "stream",
     "text": [
      " 52%|█████▏    | 14/27 [00:11<00:14,  1.12s/it]"
     ]
    },
    {
     "name": "stdout",
     "output_type": "stream",
     "text": [
      "Pretrain finished!\n",
      "dataset built\n"
     ]
    },
    {
     "data": {
      "application/vnd.jupyter.widget-view+json": {
       "model_id": "39669920ee24470da7867815f5549b7a",
       "version_major": 2,
       "version_minor": 0
      },
      "text/plain": [
       "train:   0%|          | 0/59855 [00:00<?, ?it/s]"
      ]
     },
     "metadata": {},
     "output_type": "display_data"
    },
    {
     "name": "stderr",
     "output_type": "stream",
     "text": [
      " 56%|█████▌    | 15/27 [00:12<00:14,  1.23s/it]"
     ]
    },
    {
     "name": "stdout",
     "output_type": "stream",
     "text": [
      "Pretrain finished!\n",
      "dataset built\n"
     ]
    },
    {
     "data": {
      "application/vnd.jupyter.widget-view+json": {
       "model_id": "ac48aa29ce81441088ac82fca20b5c58",
       "version_major": 2,
       "version_minor": 0
      },
      "text/plain": [
       "train:   0%|          | 0/64835 [00:00<?, ?it/s]"
      ]
     },
     "metadata": {},
     "output_type": "display_data"
    },
    {
     "name": "stderr",
     "output_type": "stream",
     "text": [
      " 59%|█████▉    | 16/27 [00:14<00:14,  1.33s/it]"
     ]
    },
    {
     "name": "stdout",
     "output_type": "stream",
     "text": [
      "Pretrain finished!\n",
      "dataset built\n"
     ]
    },
    {
     "data": {
      "application/vnd.jupyter.widget-view+json": {
       "model_id": "1446d47fe27b4dd68a0de24e2b1796ff",
       "version_major": 2,
       "version_minor": 0
      },
      "text/plain": [
       "train:   0%|          | 0/69790 [00:00<?, ?it/s]"
      ]
     },
     "metadata": {},
     "output_type": "display_data"
    },
    {
     "name": "stderr",
     "output_type": "stream",
     "text": [
      " 63%|██████▎   | 17/27 [00:15<00:14,  1.41s/it]"
     ]
    },
    {
     "name": "stdout",
     "output_type": "stream",
     "text": [
      "Pretrain finished!\n",
      "dataset built\n"
     ]
    },
    {
     "data": {
      "application/vnd.jupyter.widget-view+json": {
       "model_id": "5bba7bde323d400c8cf1c42b9acd278f",
       "version_major": 2,
       "version_minor": 0
      },
      "text/plain": [
       "train:   0%|          | 0/74735 [00:00<?, ?it/s]"
      ]
     },
     "metadata": {},
     "output_type": "display_data"
    },
    {
     "name": "stderr",
     "output_type": "stream",
     "text": [
      " 67%|██████▋   | 18/27 [00:17<00:13,  1.53s/it]"
     ]
    },
    {
     "name": "stdout",
     "output_type": "stream",
     "text": [
      "Pretrain finished!\n",
      "dataset built\n"
     ]
    },
    {
     "data": {
      "application/vnd.jupyter.widget-view+json": {
       "model_id": "33f3b6585b9041ed87dab0dc10aee16d",
       "version_major": 2,
       "version_minor": 0
      },
      "text/plain": [
       "train:   0%|          | 0/79735 [00:00<?, ?it/s]"
      ]
     },
     "metadata": {},
     "output_type": "display_data"
    },
    {
     "name": "stderr",
     "output_type": "stream",
     "text": [
      " 70%|███████   | 19/27 [00:19<00:13,  1.66s/it]"
     ]
    },
    {
     "name": "stdout",
     "output_type": "stream",
     "text": [
      "Pretrain finished!\n",
      "dataset built\n"
     ]
    },
    {
     "data": {
      "application/vnd.jupyter.widget-view+json": {
       "model_id": "653fbc55ec514e6291ba5f9eab05eb3f",
       "version_major": 2,
       "version_minor": 0
      },
      "text/plain": [
       "train:   0%|          | 0/84210 [00:00<?, ?it/s]"
      ]
     },
     "metadata": {},
     "output_type": "display_data"
    },
    {
     "name": "stderr",
     "output_type": "stream",
     "text": [
      " 74%|███████▍  | 20/27 [00:21<00:12,  1.74s/it]"
     ]
    },
    {
     "name": "stdout",
     "output_type": "stream",
     "text": [
      "Pretrain finished!\n",
      "dataset built\n"
     ]
    },
    {
     "data": {
      "application/vnd.jupyter.widget-view+json": {
       "model_id": "3ab70e5208464f7ebdf28d891f3dce7a",
       "version_major": 2,
       "version_minor": 0
      },
      "text/plain": [
       "train:   0%|          | 0/89025 [00:00<?, ?it/s]"
      ]
     },
     "metadata": {},
     "output_type": "display_data"
    },
    {
     "name": "stderr",
     "output_type": "stream",
     "text": [
      " 78%|███████▊  | 21/27 [00:24<00:11,  1.94s/it]"
     ]
    },
    {
     "name": "stdout",
     "output_type": "stream",
     "text": [
      "Pretrain finished!\n",
      "dataset built\n"
     ]
    },
    {
     "data": {
      "application/vnd.jupyter.widget-view+json": {
       "model_id": "7b727d7531e44899bf6572d07527ae59",
       "version_major": 2,
       "version_minor": 0
      },
      "text/plain": [
       "train:   0%|          | 0/94025 [00:00<?, ?it/s]"
      ]
     },
     "metadata": {},
     "output_type": "display_data"
    },
    {
     "name": "stderr",
     "output_type": "stream",
     "text": [
      " 81%|████████▏ | 22/27 [00:26<00:10,  2.08s/it]"
     ]
    },
    {
     "name": "stdout",
     "output_type": "stream",
     "text": [
      "Pretrain finished!\n",
      "dataset built\n"
     ]
    },
    {
     "data": {
      "application/vnd.jupyter.widget-view+json": {
       "model_id": "adad0528a0f94a8f8d92f9a2038f4652",
       "version_major": 2,
       "version_minor": 0
      },
      "text/plain": [
       "train:   0%|          | 0/99025 [00:00<?, ?it/s]"
      ]
     },
     "metadata": {},
     "output_type": "display_data"
    },
    {
     "name": "stderr",
     "output_type": "stream",
     "text": [
      " 85%|████████▌ | 23/27 [00:29<00:08,  2.24s/it]"
     ]
    },
    {
     "name": "stdout",
     "output_type": "stream",
     "text": [
      "Pretrain finished!\n",
      "dataset built\n"
     ]
    },
    {
     "data": {
      "application/vnd.jupyter.widget-view+json": {
       "model_id": "430450ca8005406f9b6aa9d599b65d74",
       "version_major": 2,
       "version_minor": 0
      },
      "text/plain": [
       "train:   0%|          | 0/104025 [00:00<?, ?it/s]"
      ]
     },
     "metadata": {},
     "output_type": "display_data"
    },
    {
     "name": "stderr",
     "output_type": "stream",
     "text": [
      " 89%|████████▉ | 24/27 [00:31<00:07,  2.42s/it]"
     ]
    },
    {
     "name": "stdout",
     "output_type": "stream",
     "text": [
      "Pretrain finished!\n",
      "dataset built\n"
     ]
    },
    {
     "data": {
      "application/vnd.jupyter.widget-view+json": {
       "model_id": "6fff9d836141412d8f571ad018c411da",
       "version_major": 2,
       "version_minor": 0
      },
      "text/plain": [
       "train:   0%|          | 0/109025 [00:00<?, ?it/s]"
      ]
     },
     "metadata": {},
     "output_type": "display_data"
    },
    {
     "name": "stderr",
     "output_type": "stream",
     "text": [
      " 93%|█████████▎| 25/27 [00:34<00:05,  2.63s/it]"
     ]
    },
    {
     "name": "stdout",
     "output_type": "stream",
     "text": [
      "Pretrain finished!\n"
     ]
    },
    {
     "name": "stderr",
     "output_type": "stream",
     "text": [
      " 93%|█████████▎| 25/27 [00:35<00:05,  2.63s/it]"
     ]
    },
    {
     "name": "stdout",
     "output_type": "stream",
     "text": [
      "dataset built\n"
     ]
    },
    {
     "data": {
      "application/vnd.jupyter.widget-view+json": {
       "model_id": "c376d77d8d9c4d589ad66ab7ed9ed6d0",
       "version_major": 2,
       "version_minor": 0
      },
      "text/plain": [
       "train:   0%|          | 0/114025 [00:00<?, ?it/s]"
      ]
     },
     "metadata": {},
     "output_type": "display_data"
    },
    {
     "name": "stderr",
     "output_type": "stream",
     "text": [
      " 96%|█████████▋| 26/27 [00:38<00:02,  2.82s/it]"
     ]
    },
    {
     "name": "stdout",
     "output_type": "stream",
     "text": [
      "Pretrain finished!\n"
     ]
    },
    {
     "name": "stderr",
     "output_type": "stream",
     "text": [
      " 96%|█████████▋| 26/27 [00:38<00:02,  2.82s/it]"
     ]
    },
    {
     "name": "stdout",
     "output_type": "stream",
     "text": [
      "dataset built\n"
     ]
    },
    {
     "data": {
      "application/vnd.jupyter.widget-view+json": {
       "model_id": "fae8cbbe2aa0492085b8e4081a09d7b8",
       "version_major": 2,
       "version_minor": 0
      },
      "text/plain": [
       "train:   0%|          | 0/118950 [00:00<?, ?it/s]"
      ]
     },
     "metadata": {},
     "output_type": "display_data"
    },
    {
     "name": "stderr",
     "output_type": "stream",
     "text": [
      "100%|██████████| 27/27 [00:41<00:00,  1.54s/it]\n"
     ]
    },
    {
     "data": {
      "image/png": "[encoded data removed]",
      "text/plain": [
       "<Figure size 640x480 with 1 Axes>"
      ]
     },
     "metadata": {},
     "output_type": "display_data"
    }
   ],
   "source": [
    "from fsrs_optimizer import (\n",
    "    Optimizer,\n",
    "    Collection,\n",
    "    Trainer,\n",
    "    power_forgetting_curve,\n",
    ")\n",
    "\n",
    "optimizer = Optimizer()\n",
    "optimizer.define_model()\n",
    "\n",
    "def evaluate(weights):\n",
    "    my_collection = Collection(weights)\n",
    "    stabilities, difficulties = my_collection.batch_predict(train_set)\n",
    "    stabilities = map(lambda x: round(x, 2), stabilities)\n",
    "    difficulties = map(lambda x: round(x, 2), difficulties)\n",
    "    train_set[\"stability\"] = list(stabilities)\n",
    "    train_set[\"difficulty\"] = list(difficulties)\n",
    "    train_set[\"p\"] = power_forgetting_curve(train_set[\"delta_t\"], train_set[\"stability\"])\n",
    "    y = train_set[\"y\"].tolist()\n",
    "    p = train_set[\"p\"].tolist()\n",
    "    rmse_bins = cross_comparison(pd.DataFrame({\"y\": y, \"R (FSRS)\": p}), \"FSRS\", \"FSRS\")[\n",
    "        0\n",
    "    ]\n",
    "    return rmse_bins\n",
    "\n",
    "\n",
    "lr: float = 4e-2\n",
    "n_epoch: int = 5\n",
    "n_splits: int = 5\n",
    "batch_size: int = 512\n",
    "verbose: bool = False\n",
    "\n",
    "last_weights = optimizer.init_w\n",
    "\n",
    "m_last = []\n",
    "m_cur = []\n",
    "for max_index in tqdm(range(1000, len(dataset), 1000)):\n",
    "    train_set = dataset.loc[:max_index].copy()\n",
    "    if rust:\n",
    "        items = convert_to_items(train_set[train_set[\"i\"] >= 2])\n",
    "        weights = backend.compute_weights_from_items(items)\n",
    "    else:\n",
    "        optimizer.S0_dataset_group = (\n",
    "            train_set[train_set[\"i\"] == 2]\n",
    "            # .groupby(by=[\"first_rating\", \"delta_t\"], group_keys=False)\n",
    "            .groupby(by=[\"r_history\", \"delta_t\"], group_keys=False)\n",
    "            .agg({\"y\": [\"mean\", \"count\"]})\n",
    "            .reset_index()\n",
    "        )\n",
    "        _ = optimizer.pretrain(dataset=train_set, verbose=verbose)\n",
    "        trainer = Trainer(\n",
    "            train_set,\n",
    "            train_set,\n",
    "            optimizer.init_w,\n",
    "            n_epoch=n_epoch,\n",
    "            lr=lr,\n",
    "            batch_size=batch_size,\n",
    "        )\n",
    "        weights = trainer.train(verbose=verbose)\n",
    "    m_last.append(evaluate(last_weights))\n",
    "    m_cur.append(evaluate(weights))\n",
    "    last_weights = weights\n",
    "\n",
    "plt.plot(m_last, label=\"last weights\")\n",
    "plt.plot(m_cur, label=\"current weights\")\n",
    "plt.xlabel(\"number of reviews (x1000)\")\n",
    "plt.ylabel(\"RMSE(bins)\")\n",
    "plt.legend()\n",
    "plt.grid()\n",
    "plt.show()"
   ]
  }
 ],
 "metadata": {
  "kernelspec": {
   "display_name": "fsrs4anki",
   "language": "python",
   "name": "python3"
  },
  "language_info": {
   "codemirror_mode": {
    "name": "ipython",
    "version": 3
   },
   "file_extension": ".py",
   "mimetype": "text/x-python",
   "name": "python",
   "nbconvert_exporter": "python",
   "pygments_lexer": "ipython3",
   "version": "3.9.16"
  }
 },
 "nbformat": 4,
 "nbformat_minor": 2
}
